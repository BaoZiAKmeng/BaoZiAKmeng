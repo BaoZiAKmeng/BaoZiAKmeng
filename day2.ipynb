{
 "cells": [
  {
   "cell_type": "code",
   "execution_count": 10,
   "metadata": {},
   "outputs": [
    {
     "data": {
      "text/plain": [
       "[1, 2, 3, 4, 5]"
      ]
     },
     "execution_count": 10,
     "metadata": {},
     "output_type": "execute_result"
    }
   ],
   "source": [
    "a = [1,1,1,2,3,3,3,3,3,4,4,5]\n",
    "a\n",
    "b = set(a)\n",
    "del a\n",
    "a = list(b)\n",
    "a.sort()\n",
    "a"
   ]
  },
  {
   "cell_type": "code",
   "execution_count": 20,
   "metadata": {},
   "outputs": [
    {
     "name": "stdout",
     "output_type": "stream",
     "text": [
      "[1, 0, 3, 7, 5]\n",
      "[1, 0, 3, 7, 5]\n",
      "[1, 0, 3, 7, 5]\n",
      "[1, 0, 3, 7, 5]\n",
      "[1, 0, 3, 7, 5]\n",
      "[1, 0, 3, 7, 5]\n"
     ]
    }
   ],
   "source": [
    "orgList=[1,0,3,7,7,5]\n",
    "for i in orgList:\n",
    "    if i not in formatList:\n",
    "        formatList.append(i)\n",
    "    print(formatList)"
   ]
  },
  {
   "cell_type": "code",
   "execution_count": null,
   "metadata": {},
   "outputs": [],
   "source": []
  }
 ],
 "metadata": {
  "kernelspec": {
   "display_name": "Python 3",
   "language": "python",
   "name": "python3"
  },
  "language_info": {
   "codemirror_mode": {
    "name": "ipython",
    "version": 3
   },
   "file_extension": ".py",
   "mimetype": "text/x-python",
   "name": "python",
   "nbconvert_exporter": "python",
   "pygments_lexer": "ipython3",
   "version": "3.6.4"
  }
 },
 "nbformat": 4,
 "nbformat_minor": 2
}
